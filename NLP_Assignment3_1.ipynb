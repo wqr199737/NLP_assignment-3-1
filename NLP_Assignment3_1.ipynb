{
  "nbformat": 4,
  "nbformat_minor": 0,
  "metadata": {
    "colab": {
      "provenance": []
    },
    "kernelspec": {
      "name": "python3",
      "display_name": "Python 3"
    },
    "language_info": {
      "name": "python"
    }
  },
  "cells": [
    {
      "cell_type": "code",
      "execution_count": 3,
      "metadata": {
        "colab": {
          "base_uri": "https://localhost:8080/"
        },
        "id": "I2JgEOcrDqXp",
        "outputId": "af1803b8-4bbd-4610-a366-1cb2129021b6"
      },
      "outputs": [
        {
          "output_type": "stream",
          "name": "stdout",
          "text": [
            "An error occurred: read_csv() got an unexpected keyword argument 'error_bad_lines'\n",
            "Line 21470: \"I don't understand why making remakes has become the trend. Every remake I have ever seen is awful, and this is no exception. If any of you have seen the quote from Ben Jones, that it is a \"\"sleazy\"\" piece of trash, he is quite right. Why they would take a wonderful television show, which I loved, have never missed an episode, and own seasons 1-4 on DVD, and ruin it, I'll never know. The television show was a family show, and although Daisy has the body, it was really flaunted, or even addressed in the show, save the outfits. A family show has been turned in to a dirty piece of garbage, and I wouldn't recommend anyone go see it. Another thing I didn't like was that John Schneider and Tom Wopat are excellent actors (along with the rest of the original cast), and they are also extremely cute. The new Bo and Luke are not even a little cute. That was one of the drawers for the show. The casting is terrible. They could have at least gotten a brunette for Daisy. I don't think Burt Reynolds is a qualified Boss Hogg, either. Every other role he has ever played is totally opposite this role. The only role they cast halfway decent is Willie Nelson as Uncle Jesse, but still it is no comparison. Denver Pyle is an actor all his own, and that made him perfect for the role. I think that the casting is awful, the story is awful, and all in all ruined a wonderful show and turned it into a dirty, terrible movie. I wouldn't recommend anyone go see it. I only saw it out of curiosity, plus there was a free ticket in season 4 DVD. I would never have paid to see this movie, but it was free. DON'T PAY TO SEE THIS MOVIE.\",0\n",
            "\n",
            "Line 21471: Malcolm McDowell has not had too many good movies lately and this is no different. Especially designed for people who like Yellow filters on their movies.,0\n",
            "\n",
            "Line 21472: \"I had some expectation for the movie, since it had a nice star cast and it is the return of the duo of Akshay and Saif. Well, I was hesitant to watch the movie because this was done by the same man who wrote the story for Dhoom franchise because I hated Dhoom 2; but if Dhoom 2 is compared to Tashan, I would say Dhoom 2 is very realistic. <br /><br />When I saw the credits at the beginning, I felt nice because it was put up in a nice way. Well, the very first scene itself pis*ed me off. Then, the major drawback of the movie is the action sequences. Me and my friends were laughing our guts off watching this crappy fights. It was like Akshay against some 30 thugs and all and the thugs even got machine guns! Phew...you got to see this to understand how bad the action sequences are.<br /><br />The other thing about the movie is the far too predictable story. It reminded me of some of the early 80's movies.<br /><br />Well, the only thing the movie is worth is of sexy Kareena, who looked really hot in this one.And for that, I give a rating of 2 out of 10.<br /><br />Guys, please..please...don't see this one thinking that it is a real gangster movie. Well, you can watch this to have some laughs at the terrible fight scenes.<br /><br />Thats all.\",0\n",
            "\n",
            "Line 21473: \"Especially for a time when not much science fiction was being filmed (1973), this is a terrific vision of a future where everything has gone wrong. Too many people, and nothing works. The only people who can live in comfort are the rich. It's set in New York in 2022 (I think), and it reminds you of your worst vision of Calcutta.<br /><br />I got to appreciate Charlton Heston's acting after seeing him in Orson Welles' Touch of Evil. He was (maybe is) capable of portraying a range of heroic or semi-heroic people. Here, he is torn between being a cop who is just a little bit corrupt (taking rare food treats from the rich), and being totally corrupt (actively condoning evil). <br /><br />The movie all seems to take place at night, and sweat is dripping off everyone, except in one of the rare air-conditioned apartments. Even though I hadn't seen it before, I knew the famous ending (which will not here be revealed), but the ending is certainly foreshadowed.<br /><br />Great scenes with Edward G. Robinson: going to the council (made up of elderly Jews with heavy accents, so it seems), where the truth is revealed. And then going off to the Thanatopsis to check out.<br /><br />Gritty, pre-Star Wars dystopian science fiction.\",1\n",
            "\n",
            "Line 21474: \"For Native Mongolian speakers the film lacked emotion and emphasis. Used too many non Native speakers especially Jamukha. Too many diversions from the actual history. Terrible terrible subtitle!!! I wonder where and who did that subtitle. It was both in English and Thai. I wonder how bad the subtitle was in Thai if the English subtitle was soooo bad! Described the one of the greatest leader's life very uninteresting. There are better films made by Mongolian directors with very low budget from 1980's. Honestly, I'm wondering if the film critics of Academy award is that lenient or what? Only good thing was some good CGI in some fighting scenes only moderately... not over the top CGI\",0\n",
            "\n",
            "Line 21475: \"Cruel Intentions 2 is bloody awful, I mean uber-bad. Words can not explain how bad it is, but I'll give it a go anyway.<br /><br />The plot of Cruel Intentions 2 is very similar to the first film. Sebastian (Robin Dunne), is kicked out of a private school and is forced to move to New York. There he decides to make a fresh start and just a life a normal life and settle down. Unfortunately he has to deal with his step-sister Kathryn (Amy Adams) wants to drag him down. Sebastain starts to fall in love Danielle (Sarah Thompson), the innocent daughter of the Headmaster of the school. Kathryn wants Sebastain to just sleep around with the whole school which had been describe as a 'whore-house'. Kathryn also wants to get revenge with Cherie (Keri Lynn Pratt), who humiliated her during the school assembly. Kathryn wanted to make the freshman into the biggest slut in the school, a similar sub-plot to the first film.<br /><br />Cruel Intentions 2 is basically a cancelled TV-show, which was turned into a prequel. There are so many problems with the film. It is poorly written, unfunny, and badly acted. Luckily for Amy Adams that the show never took off because now she is a fairly big actress. Whilst Cruel Intentions had a sense of realism and can been seen to be set in the real world, Cruel Intentions 2 is set in sitcom land and as described on amazon.co.uk 'a randy version of Saved by the Bell'. There were some dark themes involving sex and drug use in the first film, but in Cruel Intentions 2 tried to make it funny and some of the ideas in the film shouldn't be, such as Kathryn having an affair with a teacher. Other ideas also don't work such as the secret society where all the popular kids meet to discuss the downfall of other students. The film also had a major problem of sexualised 15/16-years-old. I know that teenagers do have sex, sometimes a lot, but when done on film or television, is treated very seriously. One famous sense was when Daneille encourages Cherie (who is around 14/15 in the film) to simulate sex on the back of a horse to the point where she has a orgasm. The idea of turning a girl around 14/15 into a slut is just very wrong with me, and shouldn't be made into a subject of comedy. The jokes in the film fall flat, whether if it's a verbal gag like 'she goes all moist when she sees you' to a visual gag where Sebastian pushes Kathryn face first into mud.<br /><br />There is a lot wrong with this film, which I don't have time to go into, but I say it should be avoid. Just watch Cruel Intentions, whilst not a classic, still is a decent film and treats the subject matter well.<br /><br />This film is just a pervert's wet dream, having school-kids having lots of sex with each other.\",0\n",
            "\n",
            "Line 21476: \"The Nun is a revenge picture whereby a very strict nun is killed by her rebellious trailer trash charges and comes back years later to get even when the now adults visit their old school. Story line is predictable in spades and will hold no surprises as it slowly winds its way to the end. It is a screamer of a movie with passable acting and a below average script and screenplay. Much of the special effects are low grade and there is almost zero believability in the final battle. Still, if you look past these there is some suspense and acting jewels. If you like senseless cookie cutter screamers, you'll like this, otherwise you should pass.\",0\n",
            "\n",
            "Line 21477: \"Okay, I agree with all the Barney haters on this site. I think Barney and his friends are all ugly looking and obnoxious and the show is very lop sided and unrealistic.<br /><br />But the thing that ticked me off the most is how Barney presented Gays, Lesbians and Bisexuals on his show when talking about same sex parents and relatives. That wouldn't be so much of a problem if the creators of this show didn't use so many derogatory stereotypes of homosexuals. I mean, not all gay men wear mascara and love the colors purple and pink, and not all lesbians are ugly and manly looking with a bosom that sags to their abdomen. As a bisexual female, I just think this is terrible for a children's show. If this were South Park, I wouldn't mind it, because South Park is for people who can distinguish fantasy from reality. A lot of people who watch Barney are little kids or handicapped people who can't usually distinguish fantasy from reality.<br /><br />And now that I think about it, Barney sort of comes off as an ugly gay stereotype himself. Let's see, he doesn't have a girlfriend, he's pinkish colored and wears clothes with sequins (yes, it's true) on it. If you claim to be for the rights of gay and bisexual individuals, then stop making a mockery out of them in front of people who don't know any better. If Barney went black-face and ate fried chicken and watermelon at the same time, the show would be pulled off the air before you know it.<br /><br />I give this show a negative one out of five. Don't show your kids such hateful crap. There are children's shows out there that are so less insulting.\",0\n",
            "\n",
            "Line 21478: \"It's nothing more than a weird coincidence that I decided to watch STARLIFT on the 59th anniversary of the day in June 1950 when President Truman's ordered US forces into the Korean War. STARLIFT, you see, is set largely at Travis Air Force base in California in the years when it was being used as a staging post for soldiers being shipped out to fight in Korea. But you'd need to do your own research to know this because not once during the film is the name 'Korea' mentioned. We see transport aircraft flying out fresh troops and returning with wounded soldiers but there's no mention of where these men will be fighting or getting injured. Which is kind of weird for a film designed to wave the flag and salute America's men in uniform. Released in December 1951 by Warner Brothers, STARLIFT is a very obvious effort to replicate the success of the studio's star-studded World War Two home-front morale booster \"\"Hollywood Canteen.\"\" This 1944 crowd-pleaser told the story of two soldiers spending their last three nights of leave hanging out at the famous armed forces nightclub in LA hoping to get a date with Joan Leslie. But really it was just an excuse for Warners to trot out every star under contract, from Joan Crawford, John Garfield, and Barbara Stanwyck to Peter Lorre, Bette Davis, Sydney Greenstreet and more. STARLIFT features two Air Force soldiers hoping to meet fictional starlet Nell Wayne (a mask-like Janice Rule) and persuading a bunch of Warner Bros stars to put on a show for the departing troops. But in place of Crawford, Garfield et al the best the brothers Warner could scrape up in 1951 were Doris Day, Ruth Roman, Gordon MacRae, Virginia Mayo, Gene Nelson and Phil Harris with fleeting appearances by James Cagney, Randolph Scott, and a clearly embarrassed looking Gary Cooper. This threadbare cast, whose combined star power would struggle to illuminate a standard lamp, is perfectly matched by the crummy production values. Presumably in an effort to save money several long scenes were shot using really really bad back projection. How bad is it? You can see the join where the screen meets the floor of the soundstage! To describe STARLIFT as a sloppy, lazy and third rate movie is to do a disservice to films which are sloppy, lazy and third rate. It's just terrible. Avoid it.\",0\n",
            "\n",
            "Line 21479: \"Russians never dropped children's toys filled with explosives over Afghanistan, that never happened!!! Who did invention of that?? Hollywood portrays Russian army as horrible, dreadful troops of evil! That is disgusting!! United States President Jimmy Carter had accepted the view that \"\"Soviet aggression\"\" could not be viewed as an isolated event of limited geographical importance but had to be contested as a potential threat to the Persian Gulf region. The uncertain scope of the final objective of Moscow in its sudden southward plunge made the American stake in an independent Pakistan all the more important. A great deal of damage was done to the civilian children population by land mines.\",0\n",
            "\n",
            "Line 21470: \"I don't understand why making remakes has become the trend. Every remake I have ever seen is awful, and this is no exception. If any of you have seen the quote from Ben Jones, that it is a \"\"sleazy\"\" piece of trash, he is quite right. Why they would take a wonderful television show, which I loved, have never missed an episode, and own seasons 1-4 on DVD, and ruin it, I'll never know. The television show was a family show, and although Daisy has the body, it was really flaunted, or even addressed in the show, save the outfits. A family show has been turned in to a dirty piece of garbage, and I wouldn't recommend anyone go see it. Another thing I didn't like was that John Schneider and Tom Wopat are excellent actors (along with the rest of the original cast), and they are also extremely cute. The new Bo and Luke are not even a little cute. That was one of the drawers for the show. The casting is terrible. They could have at least gotten a brunette for Daisy. I don't think Burt Reynolds is a qualified Boss Hogg, either. Every other role he has ever played is totally opposite this role. The only role they cast halfway decent is Willie Nelson as Uncle Jesse, but still it is no comparison. Denver Pyle is an actor all his own, and that made him perfect for the role. I think that the casting is awful, the story is awful, and all in all ruined a wonderful show and turned it into a dirty, terrible movie. I wouldn't recommend anyone go see it. I only saw it out of curiosity, plus there was a free ticket in season 4 DVD. I would never have paid to see this movie, but it was free. DON'T PAY TO SEE THIS MOVIE.\",0\n",
            "\n",
            "Line 21471: Malcolm McDowell has not had too many good movies lately and this is no different. Especially designed for people who like Yellow filters on their movies.,0\n",
            "\n",
            "Line 21472: \"I had some expectation for the movie, since it had a nice star cast and it is the return of the duo of Akshay and Saif. Well, I was hesitant to watch the movie because this was done by the same man who wrote the story for Dhoom franchise because I hated Dhoom 2; but if Dhoom 2 is compared to Tashan, I would say Dhoom 2 is very realistic. <br /><br />When I saw the credits at the beginning, I felt nice because it was put up in a nice way. Well, the very first scene itself pis*ed me off. Then, the major drawback of the movie is the action sequences. Me and my friends were laughing our guts off watching this crappy fights. It was like Akshay against some 30 thugs and all and the thugs even got machine guns! Phew...you got to see this to understand how bad the action sequences are.<br /><br />The other thing about the movie is the far too predictable story. It reminded me of some of the early 80's movies.<br /><br />Well, the only thing the movie is worth is of sexy Kareena, who looked really hot in this one.And for that, I give a rating of 2 out of 10.<br /><br />Guys, please..please...don't see this one thinking that it is a real gangster movie. Well, you can watch this to have some laughs at the terrible fight scenes.<br /><br />Thats all.\",0\n",
            "\n",
            "Line 21473: \"Especially for a time when not much science fiction was being filmed (1973), this is a terrific vision of a future where everything has gone wrong. Too many people, and nothing works. The only people who can live in comfort are the rich. It's set in New York in 2022 (I think), and it reminds you of your worst vision of Calcutta.<br /><br />I got to appreciate Charlton Heston's acting after seeing him in Orson Welles' Touch of Evil. He was (maybe is) capable of portraying a range of heroic or semi-heroic people. Here, he is torn between being a cop who is just a little bit corrupt (taking rare food treats from the rich), and being totally corrupt (actively condoning evil). <br /><br />The movie all seems to take place at night, and sweat is dripping off everyone, except in one of the rare air-conditioned apartments. Even though I hadn't seen it before, I knew the famous ending (which will not here be revealed), but the ending is certainly foreshadowed.<br /><br />Great scenes with Edward G. Robinson: going to the council (made up of elderly Jews with heavy accents, so it seems), where the truth is revealed. And then going off to the Thanatopsis to check out.<br /><br />Gritty, pre-Star Wars dystopian science fiction.\",1\n",
            "\n",
            "Line 21474: \"For Native Mongolian speakers the film lacked emotion and emphasis. Used too many non Native speakers especially Jamukha. Too many diversions from the actual history. Terrible terrible subtitle!!! I wonder where and who did that subtitle. It was both in English and Thai. I wonder how bad the subtitle was in Thai if the English subtitle was soooo bad! Described the one of the greatest leader's life very uninteresting. There are better films made by Mongolian directors with very low budget from 1980's. Honestly, I'm wondering if the film critics of Academy award is that lenient or what? Only good thing was some good CGI in some fighting scenes only moderately... not over the top CGI\",0\n",
            "\n",
            "Line 21475: \"Cruel Intentions 2 is bloody awful, I mean uber-bad. Words can not explain how bad it is, but I'll give it a go anyway.<br /><br />The plot of Cruel Intentions 2 is very similar to the first film. Sebastian (Robin Dunne), is kicked out of a private school and is forced to move to New York. There he decides to make a fresh start and just a life a normal life and settle down. Unfortunately he has to deal with his step-sister Kathryn (Amy Adams) wants to drag him down. Sebastain starts to fall in love Danielle (Sarah Thompson), the innocent daughter of the Headmaster of the school. Kathryn wants Sebastain to just sleep around with the whole school which had been describe as a 'whore-house'. Kathryn also wants to get revenge with Cherie (Keri Lynn Pratt), who humiliated her during the school assembly. Kathryn wanted to make the freshman into the biggest slut in the school, a similar sub-plot to the first film.<br /><br />Cruel Intentions 2 is basically a cancelled TV-show, which was turned into a prequel. There are so many problems with the film. It is poorly written, unfunny, and badly acted. Luckily for Amy Adams that the show never took off because now she is a fairly big actress. Whilst Cruel Intentions had a sense of realism and can been seen to be set in the real world, Cruel Intentions 2 is set in sitcom land and as described on amazon.co.uk 'a randy version of Saved by the Bell'. There were some dark themes involving sex and drug use in the first film, but in Cruel Intentions 2 tried to make it funny and some of the ideas in the film shouldn't be, such as Kathryn having an affair with a teacher. Other ideas also don't work such as the secret society where all the popular kids meet to discuss the downfall of other students. The film also had a major problem of sexualised 15/16-years-old. I know that teenagers do have sex, sometimes a lot, but when done on film or television, is treated very seriously. One famous sense was when Daneille encourages Cherie (who is around 14/15 in the film) to simulate sex on the back of a horse to the point where she has a orgasm. The idea of turning a girl around 14/15 into a slut is just very wrong with me, and shouldn't be made into a subject of comedy. The jokes in the film fall flat, whether if it's a verbal gag like 'she goes all moist when she sees you' to a visual gag where Sebastian pushes Kathryn face first into mud.<br /><br />There is a lot wrong with this film, which I don't have time to go into, but I say it should be avoid. Just watch Cruel Intentions, whilst not a classic, still is a decent film and treats the subject matter well.<br /><br />This film is just a pervert's wet dream, having school-kids having lots of sex with each other.\",0\n",
            "\n",
            "Line 21476: \"The Nun is a revenge picture whereby a very strict nun is killed by her rebellious trailer trash charges and comes back years later to get even when the now adults visit their old school. Story line is predictable in spades and will hold no surprises as it slowly winds its way to the end. It is a screamer of a movie with passable acting and a below average script and screenplay. Much of the special effects are low grade and there is almost zero believability in the final battle. Still, if you look past these there is some suspense and acting jewels. If you like senseless cookie cutter screamers, you'll like this, otherwise you should pass.\",0\n",
            "\n",
            "Line 21477: \"Okay, I agree with all the Barney haters on this site. I think Barney and his friends are all ugly looking and obnoxious and the show is very lop sided and unrealistic.<br /><br />But the thing that ticked me off the most is how Barney presented Gays, Lesbians and Bisexuals on his show when talking about same sex parents and relatives. That wouldn't be so much of a problem if the creators of this show didn't use so many derogatory stereotypes of homosexuals. I mean, not all gay men wear mascara and love the colors purple and pink, and not all lesbians are ugly and manly looking with a bosom that sags to their abdomen. As a bisexual female, I just think this is terrible for a children's show. If this were South Park, I wouldn't mind it, because South Park is for people who can distinguish fantasy from reality. A lot of people who watch Barney are little kids or handicapped people who can't usually distinguish fantasy from reality.<br /><br />And now that I think about it, Barney sort of comes off as an ugly gay stereotype himself. Let's see, he doesn't have a girlfriend, he's pinkish colored and wears clothes with sequins (yes, it's true) on it. If you claim to be for the rights of gay and bisexual individuals, then stop making a mockery out of them in front of people who don't know any better. If Barney went black-face and ate fried chicken and watermelon at the same time, the show would be pulled off the air before you know it.<br /><br />I give this show a negative one out of five. Don't show your kids such hateful crap. There are children's shows out there that are so less insulting.\",0\n",
            "\n",
            "Line 21478: \"It's nothing more than a weird coincidence that I decided to watch STARLIFT on the 59th anniversary of the day in June 1950 when President Truman's ordered US forces into the Korean War. STARLIFT, you see, is set largely at Travis Air Force base in California in the years when it was being used as a staging post for soldiers being shipped out to fight in Korea. But you'd need to do your own research to know this because not once during the film is the name 'Korea' mentioned. We see transport aircraft flying out fresh troops and returning with wounded soldiers but there's no mention of where these men will be fighting or getting injured. Which is kind of weird for a film designed to wave the flag and salute America's men in uniform. Released in December 1951 by Warner Brothers, STARLIFT is a very obvious effort to replicate the success of the studio's star-studded World War Two home-front morale booster \"\"Hollywood Canteen.\"\" This 1944 crowd-pleaser told the story of two soldiers spending their last three nights of leave hanging out at the famous armed forces nightclub in LA hoping to get a date with Joan Leslie. But really it was just an excuse for Warners to trot out every star under contract, from Joan Crawford, John Garfield, and Barbara Stanwyck to Peter Lorre, Bette Davis, Sydney Greenstreet and more. STARLIFT features two Air Force soldiers hoping to meet fictional starlet Nell Wayne (a mask-like Janice Rule) and persuading a bunch of Warner Bros stars to put on a show for the departing troops. But in place of Crawford, Garfield et al the best the brothers Warner could scrape up in 1951 were Doris Day, Ruth Roman, Gordon MacRae, Virginia Mayo, Gene Nelson and Phil Harris with fleeting appearances by James Cagney, Randolph Scott, and a clearly embarrassed looking Gary Cooper. This threadbare cast, whose combined star power would struggle to illuminate a standard lamp, is perfectly matched by the crummy production values. Presumably in an effort to save money several long scenes were shot using really really bad back projection. How bad is it? You can see the join where the screen meets the floor of the soundstage! To describe STARLIFT as a sloppy, lazy and third rate movie is to do a disservice to films which are sloppy, lazy and third rate. It's just terrible. Avoid it.\",0\n",
            "\n",
            "Line 21479: \"Russians never dropped children's toys filled with explosives over Afghanistan, that never happened!!! Who did invention of that?? Hollywood portrays Russian army as horrible, dreadful troops of evil! That is disgusting!! United States President Jimmy Carter had accepted the view that \"\"Soviet aggression\"\" could not be viewed as an isolated event of limited geographical importance but had to be contested as a potential threat to the Persian Gulf region. The uncertain scope of the final objective of Moscow in its sudden southward plunge made the American stake in an independent Pakistan all the more important. A great deal of damage was done to the civilian children population by land mines.\",0\n",
            "\n"
          ]
        }
      ],
      "source": [
        "import pandas as pd\n",
        "\n",
        "try:\n",
        "    df = pd.read_csv('/content/Train.csv', error_bad_lines=False, warn_bad_lines=True)\n",
        "except Exception as e:\n",
        "    print(\"An error occurred:\", e)\n",
        "# Read lines around the problematic area to inspect them\n",
        "with open('/content/Train.csv', 'r') as file:\n",
        "    for i, line in enumerate(file):\n",
        "        if i in range(21470, 21480):  # Adjust the range as necessary\n",
        "            print(f\"Line {i}: {line}\")\n",
        "# Read lines around the problematic area to inspect them\n",
        "with open('/content/Train.csv', 'r') as file:\n",
        "    for i, line in enumerate(file):\n",
        "        if i in range(21470, 21480):  # Adjust the range as necessary\n",
        "            print(f\"Line {i}: {line}\")\n",
        "import csv\n",
        "\n",
        "# Use csv.reader to handle complex CSVs\n",
        "with open('/content/Train.csv', newline='', encoding='utf-8') as csvfile:\n",
        "    reader = csv.reader(csvfile, delimiter=',', quotechar='\"')\n",
        "    rows = [row for row in reader]\n",
        "\n",
        "# Convert to DataFrame\n",
        "df = pd.DataFrame(rows[1:], columns=rows[0])\n"
      ]
    },
    {
      "cell_type": "code",
      "source": [
        "!pip install datasets\n"
      ],
      "metadata": {
        "colab": {
          "base_uri": "https://localhost:8080/",
          "height": 1000
        },
        "id": "kRVc_J3FFX6p",
        "outputId": "56922f1e-457b-45ac-f573-232f76a11044"
      },
      "execution_count": 5,
      "outputs": [
        {
          "output_type": "stream",
          "name": "stdout",
          "text": [
            "Collecting datasets\n",
            "  Downloading datasets-2.19.0-py3-none-any.whl (542 kB)\n",
            "\u001b[2K     \u001b[90m━━━━━━━━━━━━━━━━━━━━━━━━━━━━━━━━━━━━━━━━\u001b[0m \u001b[32m542.0/542.0 kB\u001b[0m \u001b[31m6.7 MB/s\u001b[0m eta \u001b[36m0:00:00\u001b[0m\n",
            "\u001b[?25hRequirement already satisfied: filelock in /usr/local/lib/python3.10/dist-packages (from datasets) (3.14.0)\n",
            "Requirement already satisfied: numpy>=1.17 in /usr/local/lib/python3.10/dist-packages (from datasets) (1.25.2)\n",
            "Requirement already satisfied: pyarrow>=12.0.0 in /usr/local/lib/python3.10/dist-packages (from datasets) (14.0.2)\n",
            "Requirement already satisfied: pyarrow-hotfix in /usr/local/lib/python3.10/dist-packages (from datasets) (0.6)\n",
            "Collecting dill<0.3.9,>=0.3.0 (from datasets)\n",
            "  Downloading dill-0.3.8-py3-none-any.whl (116 kB)\n",
            "\u001b[2K     \u001b[90m━━━━━━━━━━━━━━━━━━━━━━━━━━━━━━━━━━━━━━━━\u001b[0m \u001b[32m116.3/116.3 kB\u001b[0m \u001b[31m9.2 MB/s\u001b[0m eta \u001b[36m0:00:00\u001b[0m\n",
            "\u001b[?25hRequirement already satisfied: pandas in /usr/local/lib/python3.10/dist-packages (from datasets) (2.0.3)\n",
            "Requirement already satisfied: requests>=2.19.0 in /usr/local/lib/python3.10/dist-packages (from datasets) (2.31.0)\n",
            "Requirement already satisfied: tqdm>=4.62.1 in /usr/local/lib/python3.10/dist-packages (from datasets) (4.66.2)\n",
            "Collecting xxhash (from datasets)\n",
            "  Downloading xxhash-3.4.1-cp310-cp310-manylinux_2_17_x86_64.manylinux2014_x86_64.whl (194 kB)\n",
            "\u001b[2K     \u001b[90m━━━━━━━━━━━━━━━━━━━━━━━━━━━━━━━━━━━━━━━━\u001b[0m \u001b[32m194.1/194.1 kB\u001b[0m \u001b[31m13.2 MB/s\u001b[0m eta \u001b[36m0:00:00\u001b[0m\n",
            "\u001b[?25hCollecting multiprocess (from datasets)\n",
            "  Downloading multiprocess-0.70.16-py310-none-any.whl (134 kB)\n",
            "\u001b[2K     \u001b[90m━━━━━━━━━━━━━━━━━━━━━━━━━━━━━━━━━━━━━━━━\u001b[0m \u001b[32m134.8/134.8 kB\u001b[0m \u001b[31m6.7 MB/s\u001b[0m eta \u001b[36m0:00:00\u001b[0m\n",
            "\u001b[?25hRequirement already satisfied: fsspec[http]<=2024.3.1,>=2023.1.0 in /usr/local/lib/python3.10/dist-packages (from datasets) (2023.6.0)\n",
            "Requirement already satisfied: aiohttp in /usr/local/lib/python3.10/dist-packages (from datasets) (3.9.5)\n",
            "Collecting huggingface-hub>=0.21.2 (from datasets)\n",
            "  Downloading huggingface_hub-0.23.0-py3-none-any.whl (401 kB)\n",
            "\u001b[2K     \u001b[90m━━━━━━━━━━━━━━━━━━━━━━━━━━━━━━━━━━━━━━━━\u001b[0m \u001b[32m401.2/401.2 kB\u001b[0m \u001b[31m26.7 MB/s\u001b[0m eta \u001b[36m0:00:00\u001b[0m\n",
            "\u001b[?25hRequirement already satisfied: packaging in /usr/local/lib/python3.10/dist-packages (from datasets) (24.0)\n",
            "Requirement already satisfied: pyyaml>=5.1 in /usr/local/lib/python3.10/dist-packages (from datasets) (6.0.1)\n",
            "Requirement already satisfied: aiosignal>=1.1.2 in /usr/local/lib/python3.10/dist-packages (from aiohttp->datasets) (1.3.1)\n",
            "Requirement already satisfied: attrs>=17.3.0 in /usr/local/lib/python3.10/dist-packages (from aiohttp->datasets) (23.2.0)\n",
            "Requirement already satisfied: frozenlist>=1.1.1 in /usr/local/lib/python3.10/dist-packages (from aiohttp->datasets) (1.4.1)\n",
            "Requirement already satisfied: multidict<7.0,>=4.5 in /usr/local/lib/python3.10/dist-packages (from aiohttp->datasets) (6.0.5)\n",
            "Requirement already satisfied: yarl<2.0,>=1.0 in /usr/local/lib/python3.10/dist-packages (from aiohttp->datasets) (1.9.4)\n",
            "Requirement already satisfied: async-timeout<5.0,>=4.0 in /usr/local/lib/python3.10/dist-packages (from aiohttp->datasets) (4.0.3)\n",
            "Requirement already satisfied: typing-extensions>=3.7.4.3 in /usr/local/lib/python3.10/dist-packages (from huggingface-hub>=0.21.2->datasets) (4.11.0)\n",
            "Requirement already satisfied: charset-normalizer<4,>=2 in /usr/local/lib/python3.10/dist-packages (from requests>=2.19.0->datasets) (3.3.2)\n",
            "Requirement already satisfied: idna<4,>=2.5 in /usr/local/lib/python3.10/dist-packages (from requests>=2.19.0->datasets) (3.7)\n",
            "Requirement already satisfied: urllib3<3,>=1.21.1 in /usr/local/lib/python3.10/dist-packages (from requests>=2.19.0->datasets) (2.0.7)\n",
            "Requirement already satisfied: certifi>=2017.4.17 in /usr/local/lib/python3.10/dist-packages (from requests>=2.19.0->datasets) (2024.2.2)\n",
            "Requirement already satisfied: python-dateutil>=2.8.2 in /usr/local/lib/python3.10/dist-packages (from pandas->datasets) (2.8.2)\n",
            "Requirement already satisfied: pytz>=2020.1 in /usr/local/lib/python3.10/dist-packages (from pandas->datasets) (2023.4)\n",
            "Requirement already satisfied: tzdata>=2022.1 in /usr/local/lib/python3.10/dist-packages (from pandas->datasets) (2024.1)\n",
            "Requirement already satisfied: six>=1.5 in /usr/local/lib/python3.10/dist-packages (from python-dateutil>=2.8.2->pandas->datasets) (1.16.0)\n",
            "Installing collected packages: xxhash, dill, multiprocess, huggingface-hub, datasets\n",
            "  Attempting uninstall: huggingface-hub\n",
            "    Found existing installation: huggingface-hub 0.20.3\n",
            "    Uninstalling huggingface-hub-0.20.3:\n",
            "      Successfully uninstalled huggingface-hub-0.20.3\n",
            "Successfully installed datasets-2.19.0 dill-0.3.8 huggingface-hub-0.23.0 multiprocess-0.70.16 xxhash-3.4.1\n"
          ]
        },
        {
          "output_type": "display_data",
          "data": {
            "application/vnd.colab-display-data+json": {
              "pip_warning": {
                "packages": [
                  "huggingface_hub"
                ]
              },
              "id": "26cda0bc8f934a3885f63602355c5049"
            }
          },
          "metadata": {}
        }
      ]
    },
    {
      "cell_type": "code",
      "source": [
        "from transformers import DistilBertTokenizer, DistilBertForSequenceClassification, Trainer, TrainingArguments\n",
        "from datasets import load_dataset\n",
        "import torch\n",
        "\n",
        "# Ensuring CUDA is available and setting device\n",
        "device = torch.device(\"cuda\" if torch.cuda.is_available() else \"cpu\")\n",
        "\n",
        "tokenizer = DistilBertTokenizer.from_pretrained('distilbert-base-uncased')\n",
        "model = DistilBertForSequenceClassification.from_pretrained('distilbert-base-uncased', num_labels=2).to(device)\n",
        "\n",
        "# Load the dataset\n",
        "dataset = load_dataset('csv', data_files={'train': '/content/Train.csv'})\n",
        "def tokenize_function(examples):\n",
        "    return tokenizer(examples['text'], padding=\"max_length\", truncation=True, max_length=512)\n",
        "tokenized_datasets = dataset.map(tokenize_function, batched=True)\n",
        "\n",
        "training_args = TrainingArguments(\n",
        "    output_dir='./results',\n",
        "    num_train_epochs=3,\n",
        "    per_device_train_batch_size=16,  # Adjust based on GPU memory\n",
        "    per_device_eval_batch_size=32,\n",
        "    warmup_steps=500,\n",
        "    weight_decay=0.01,\n",
        "    logging_dir='./logs',\n",
        "    logging_steps=10,\n",
        "    fp16=True,  # Enable mixed precision\n",
        "    load_best_model_at_end=True,  # Load the best model at the end of training based on validation loss\n",
        ")\n",
        "\n",
        "trainer = Trainer(\n",
        "    model=model,\n",
        "    args=training_args,\n",
        "    train_dataset=tokenized_datasets['train'],\n",
        "    eval_dataset=tokenized_datasets['test'],  # Make sure you have a test split or adjust accordingly\n",
        ")\n",
        "\n",
        "trainer.train()\n"
      ],
      "metadata": {
        "id": "U7RbZCoDGo--"
      },
      "execution_count": null,
      "outputs": []
    },
    {
      "cell_type": "code",
      "source": [
        "from datasets import concatenate_datasets\n",
        "\n",
        "# Assuming 'original_dataset' is your original pre-training dataset loaded similarly\n",
        "original_dataset = load_dataset('path_to_original_dataset', split='train')\n",
        "instruction_based_dataset = load_dataset('csv', data_files={'train': 'instruction_based_imdb_dataset.csv'})\n",
        "\n",
        "# Combine datasets\n",
        "combined_dataset = concatenate_datasets([original_dataset, instruction_based_dataset['train']])\n",
        "\n",
        "# Tokenize the combined dataset\n",
        "tokenized_combined_datasets = combined_dataset.map(tokenize_function, batched=True)\n",
        "\n",
        "# Fine-tune on the combined dataset\n",
        "trainer = Trainer(\n",
        "    model=model,\n",
        "    args=training_args,\n",
        "    train_dataset=tokenized_combined_datasets,\n",
        ")\n",
        "\n",
        "# Train the model\n",
        "trainer.train()\n",
        "\n",
        "# Save the model\n",
        "model.save_pretrained('./fine_tuned_distilbert_combined')\n"
      ],
      "metadata": {
        "id": "wMac0kLemH3h"
      },
      "execution_count": null,
      "outputs": []
    },
    {
      "cell_type": "code",
      "source": [
        "from sklearn.metrics import accuracy_score, precision_recall_fscore_support\n",
        "\n",
        "def compute_metrics(eval_pred):\n",
        "    logits, labels = eval_pred\n",
        "    predictions = np.argmax(logits, axis=-1)\n",
        "    precision, recall, f1, _ = precision_recall_fscore_support(labels, predictions, average='binary')\n",
        "    acc = accuracy_score(labels, predictions)\n",
        "    return {\n",
        "        'accuracy': acc,\n",
        "        'f1': f1,\n",
        "        'precision': precision,\n",
        "        'recall': recall\n",
        "    }\n",
        "\n",
        "# Define the evaluation trainer\n",
        "evaluation_trainer = Trainer(\n",
        "    model=model,\n",
        "    args=training_args,\n",
        "    compute_metrics=compute_metrics\n",
        ")\n",
        "\n",
        "# Evaluate the model\n",
        "results = evaluation_trainer.evaluate(tokenized_datasets['test'])  # assuming a test split is available\n",
        "print(results)\n"
      ],
      "metadata": {
        "id": "1ljxXvlUmL2p"
      },
      "execution_count": null,
      "outputs": []
    }
  ]
}